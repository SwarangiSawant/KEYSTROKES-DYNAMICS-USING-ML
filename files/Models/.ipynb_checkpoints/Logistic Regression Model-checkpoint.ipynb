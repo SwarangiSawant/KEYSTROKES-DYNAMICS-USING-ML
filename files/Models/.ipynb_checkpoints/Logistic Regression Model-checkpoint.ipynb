{
 "cells": [
  {
   "cell_type": "markdown",
   "id": "93d460c5",
   "metadata": {},
   "source": [
    "# Logistic Regression Model"
   ]
  },
  {
   "cell_type": "markdown",
   "id": "ff0529e0",
   "metadata": {},
   "source": [
    "## Connecting the database"
   ]
  },
  {
   "cell_type": "code",
   "execution_count": 1,
   "id": "b7343667",
   "metadata": {},
   "outputs": [],
   "source": [
    "import psycopg2\n",
    "# Database configuration\n",
    "DB_HOST = 'localhost'\n",
    "DB_PORT = '5432'\n",
    "DB_NAME = 'SWARANGI'\n",
    "DB_USER = 'postgres'\n",
    "DB_PASSWORD = '19092002'"
   ]
  },
  {
   "cell_type": "code",
   "execution_count": 2,
   "id": "6f6e940d",
   "metadata": {},
   "outputs": [],
   "source": [
    "# Connect to the PostgreSQL database\n",
    "def connect_db():\n",
    "    return psycopg2.connect(\n",
    "        host=DB_HOST,\n",
    "        port=DB_PORT,\n",
    "        dbname=DB_NAME,\n",
    "        user=DB_USER,\n",
    "        password=DB_PASSWORD\n",
    "    )"
   ]
  },
  {
   "cell_type": "code",
   "execution_count": 3,
   "id": "c1582809",
   "metadata": {},
   "outputs": [],
   "source": [
    "conn = connect_db()\n",
    "cursor = conn.cursor()"
   ]
  },
  {
   "cell_type": "code",
   "execution_count": 4,
   "id": "e16973a4",
   "metadata": {},
   "outputs": [],
   "source": [
    "import pandas as pd\n",
    "import numpy as np\n",
    "import seaborn as sns\n",
    "import matplotlib.pyplot as plt\n",
    "%matplotlib inline\n",
    "from sklearn.model_selection import train_test_split\n",
    "from sklearn.linear_model import LogisticRegression\n",
    "from sklearn import metrics\n",
    "from sklearn.metrics import classification_report,confusion_matrix"
   ]
  },
  {
   "cell_type": "markdown",
   "id": "36c01602",
   "metadata": {},
   "source": [
    "# Load and explore data"
   ]
  },
  {
   "cell_type": "code",
   "execution_count": 5,
   "id": "4ee1234a",
   "metadata": {},
   "outputs": [],
   "source": [
    "cursor.execute(\"SELECT * FROM keystrokes_data;\")\n",
    "records = cursor.fetchall()\n",
    "\n",
    "# Create a DataFrame from the fetched records\n",
    "data = pd.DataFrame(records, columns=[desc[0] for desc in cursor.description])"
   ]
  },
  {
   "cell_type": "code",
   "execution_count": 6,
   "id": "740c4847",
   "metadata": {},
   "outputs": [
    {
     "data": {
      "text/html": [
       "<div>\n",
       "<style scoped>\n",
       "    .dataframe tbody tr th:only-of-type {\n",
       "        vertical-align: middle;\n",
       "    }\n",
       "\n",
       "    .dataframe tbody tr th {\n",
       "        vertical-align: top;\n",
       "    }\n",
       "\n",
       "    .dataframe thead th {\n",
       "        text-align: right;\n",
       "    }\n",
       "</style>\n",
       "<table border=\"1\" class=\"dataframe\">\n",
       "  <thead>\n",
       "    <tr style=\"text-align: right;\">\n",
       "      <th></th>\n",
       "      <th>username</th>\n",
       "      <th>h_key1</th>\n",
       "      <th>dd_key1_key2</th>\n",
       "      <th>ud_key1_key2</th>\n",
       "      <th>h_key2</th>\n",
       "      <th>dd_key2_key3</th>\n",
       "      <th>ud_key2_key3</th>\n",
       "      <th>h_key3</th>\n",
       "      <th>dd_key3_key4</th>\n",
       "      <th>ud_key3_key4</th>\n",
       "      <th>...</th>\n",
       "      <th>dd_key5_key6</th>\n",
       "      <th>ud_key5_key6</th>\n",
       "      <th>h_key6</th>\n",
       "      <th>dd_key6_key7</th>\n",
       "      <th>ud_key6_key7</th>\n",
       "      <th>h_key7</th>\n",
       "      <th>dd_key7_key8</th>\n",
       "      <th>ud_key7_key8</th>\n",
       "      <th>h_key8</th>\n",
       "      <th>target</th>\n",
       "    </tr>\n",
       "  </thead>\n",
       "  <tbody>\n",
       "    <tr>\n",
       "      <th>0</th>\n",
       "      <td>Nikhil</td>\n",
       "      <td>0.119</td>\n",
       "      <td>0.272</td>\n",
       "      <td>0.153</td>\n",
       "      <td>0.103</td>\n",
       "      <td>0.208</td>\n",
       "      <td>0.105</td>\n",
       "      <td>0.103</td>\n",
       "      <td>0.288</td>\n",
       "      <td>0.185</td>\n",
       "      <td>...</td>\n",
       "      <td>0.487</td>\n",
       "      <td>0.392</td>\n",
       "      <td>0.216</td>\n",
       "      <td>0.161</td>\n",
       "      <td>-0.055</td>\n",
       "      <td>0.119</td>\n",
       "      <td>0.240</td>\n",
       "      <td>0.121</td>\n",
       "      <td>0.103</td>\n",
       "      <td>Genuine</td>\n",
       "    </tr>\n",
       "    <tr>\n",
       "      <th>1</th>\n",
       "      <td>Nikhil</td>\n",
       "      <td>0.119</td>\n",
       "      <td>0.272</td>\n",
       "      <td>0.153</td>\n",
       "      <td>0.103</td>\n",
       "      <td>0.216</td>\n",
       "      <td>0.113</td>\n",
       "      <td>0.103</td>\n",
       "      <td>0.287</td>\n",
       "      <td>0.184</td>\n",
       "      <td>...</td>\n",
       "      <td>0.751</td>\n",
       "      <td>0.608</td>\n",
       "      <td>0.304</td>\n",
       "      <td>0.240</td>\n",
       "      <td>-0.064</td>\n",
       "      <td>0.119</td>\n",
       "      <td>0.225</td>\n",
       "      <td>0.106</td>\n",
       "      <td>0.103</td>\n",
       "      <td>Genuine</td>\n",
       "    </tr>\n",
       "    <tr>\n",
       "      <th>2</th>\n",
       "      <td>Nikhil</td>\n",
       "      <td>0.127</td>\n",
       "      <td>0.352</td>\n",
       "      <td>0.225</td>\n",
       "      <td>0.143</td>\n",
       "      <td>0.240</td>\n",
       "      <td>0.097</td>\n",
       "      <td>0.143</td>\n",
       "      <td>0.344</td>\n",
       "      <td>0.201</td>\n",
       "      <td>...</td>\n",
       "      <td>0.614</td>\n",
       "      <td>0.480</td>\n",
       "      <td>0.336</td>\n",
       "      <td>0.265</td>\n",
       "      <td>-0.071</td>\n",
       "      <td>0.135</td>\n",
       "      <td>0.232</td>\n",
       "      <td>0.097</td>\n",
       "      <td>0.143</td>\n",
       "      <td>Genuine</td>\n",
       "    </tr>\n",
       "    <tr>\n",
       "      <th>3</th>\n",
       "      <td>Nikhil</td>\n",
       "      <td>0.122</td>\n",
       "      <td>0.315</td>\n",
       "      <td>0.193</td>\n",
       "      <td>0.127</td>\n",
       "      <td>0.200</td>\n",
       "      <td>0.073</td>\n",
       "      <td>0.111</td>\n",
       "      <td>0.400</td>\n",
       "      <td>0.289</td>\n",
       "      <td>...</td>\n",
       "      <td>0.377</td>\n",
       "      <td>0.290</td>\n",
       "      <td>0.206</td>\n",
       "      <td>0.151</td>\n",
       "      <td>-0.055</td>\n",
       "      <td>0.135</td>\n",
       "      <td>0.184</td>\n",
       "      <td>0.049</td>\n",
       "      <td>0.111</td>\n",
       "      <td>Genuine</td>\n",
       "    </tr>\n",
       "    <tr>\n",
       "      <th>4</th>\n",
       "      <td>Nikhil</td>\n",
       "      <td>0.143</td>\n",
       "      <td>0.232</td>\n",
       "      <td>0.089</td>\n",
       "      <td>0.119</td>\n",
       "      <td>0.208</td>\n",
       "      <td>0.089</td>\n",
       "      <td>0.127</td>\n",
       "      <td>0.264</td>\n",
       "      <td>0.137</td>\n",
       "      <td>...</td>\n",
       "      <td>0.351</td>\n",
       "      <td>0.264</td>\n",
       "      <td>0.216</td>\n",
       "      <td>0.153</td>\n",
       "      <td>-0.063</td>\n",
       "      <td>0.119</td>\n",
       "      <td>0.160</td>\n",
       "      <td>0.041</td>\n",
       "      <td>0.143</td>\n",
       "      <td>Genuine</td>\n",
       "    </tr>\n",
       "  </tbody>\n",
       "</table>\n",
       "<p>5 rows × 24 columns</p>\n",
       "</div>"
      ],
      "text/plain": [
       "  username  h_key1  dd_key1_key2  ud_key1_key2  h_key2  dd_key2_key3  \\\n",
       "0   Nikhil   0.119         0.272         0.153   0.103         0.208   \n",
       "1   Nikhil   0.119         0.272         0.153   0.103         0.216   \n",
       "2   Nikhil   0.127         0.352         0.225   0.143         0.240   \n",
       "3   Nikhil   0.122         0.315         0.193   0.127         0.200   \n",
       "4   Nikhil   0.143         0.232         0.089   0.119         0.208   \n",
       "\n",
       "   ud_key2_key3  h_key3  dd_key3_key4  ud_key3_key4  ...  dd_key5_key6  \\\n",
       "0         0.105   0.103         0.288         0.185  ...         0.487   \n",
       "1         0.113   0.103         0.287         0.184  ...         0.751   \n",
       "2         0.097   0.143         0.344         0.201  ...         0.614   \n",
       "3         0.073   0.111         0.400         0.289  ...         0.377   \n",
       "4         0.089   0.127         0.264         0.137  ...         0.351   \n",
       "\n",
       "   ud_key5_key6  h_key6  dd_key6_key7  ud_key6_key7  h_key7  dd_key7_key8  \\\n",
       "0         0.392   0.216         0.161        -0.055   0.119         0.240   \n",
       "1         0.608   0.304         0.240        -0.064   0.119         0.225   \n",
       "2         0.480   0.336         0.265        -0.071   0.135         0.232   \n",
       "3         0.290   0.206         0.151        -0.055   0.135         0.184   \n",
       "4         0.264   0.216         0.153        -0.063   0.119         0.160   \n",
       "\n",
       "   ud_key7_key8  h_key8   target  \n",
       "0         0.121   0.103  Genuine  \n",
       "1         0.106   0.103  Genuine  \n",
       "2         0.097   0.143  Genuine  \n",
       "3         0.049   0.111  Genuine  \n",
       "4         0.041   0.143  Genuine  \n",
       "\n",
       "[5 rows x 24 columns]"
      ]
     },
     "execution_count": 6,
     "metadata": {},
     "output_type": "execute_result"
    }
   ],
   "source": [
    "data.head()"
   ]
  },
  {
   "cell_type": "code",
   "execution_count": 7,
   "id": "38ded297",
   "metadata": {},
   "outputs": [
    {
     "data": {
      "text/plain": [
       "Index(['username', 'h_key1', 'dd_key1_key2', 'ud_key1_key2', 'h_key2',\n",
       "       'dd_key2_key3', 'ud_key2_key3', 'h_key3', 'dd_key3_key4',\n",
       "       'ud_key3_key4', 'h_key4', 'dd_key4_key5', 'ud_key4_key5', 'h_key5',\n",
       "       'dd_key5_key6', 'ud_key5_key6', 'h_key6', 'dd_key6_key7',\n",
       "       'ud_key6_key7', 'h_key7', 'dd_key7_key8', 'ud_key7_key8', 'h_key8',\n",
       "       'target'],\n",
       "      dtype='object')"
      ]
     },
     "execution_count": 7,
     "metadata": {},
     "output_type": "execute_result"
    }
   ],
   "source": [
    "data.columns"
   ]
  },
  {
   "cell_type": "markdown",
   "id": "cecb417a",
   "metadata": {},
   "source": [
    "# Data Visualization"
   ]
  },
  {
   "cell_type": "code",
   "execution_count": 8,
   "id": "557ff081",
   "metadata": {},
   "outputs": [
    {
     "data": {
      "text/plain": [
       "<AxesSubplot:xlabel='target', ylabel='count'>"
      ]
     },
     "execution_count": 8,
     "metadata": {},
     "output_type": "execute_result"
    },
    {
     "data": {
      "image/png": "[encoded data removed]",
      "text/plain": [
       "<Figure size 640x480 with 1 Axes>"
      ]
     },
     "metadata": {},
     "output_type": "display_data"
    }
   ],
   "source": [
    "sns.set_style('darkgrid')\n",
    "sns.countplot(x='target',data=data)"
   ]
  },
  {
   "cell_type": "markdown",
   "id": "87adea78",
   "metadata": {},
   "source": [
    "# Split data into train and test data "
   ]
  },
  {
   "cell_type": "code",
   "execution_count": 9,
   "id": "c0958ec0",
   "metadata": {},
   "outputs": [],
   "source": [
    "train, test = train_test_split(data, test_size = 0.2)\n",
    "features = list(data.columns[1:23])\n",
    "X = data[features]\n",
    "y =data['target']\n",
    "X_train = train[features]\n",
    "y_train = train['target']\n",
    "X_test = test[features]\n",
    "y_test = test['target']"
   ]
  },
  {
   "cell_type": "markdown",
   "id": "6769912f",
   "metadata": {},
   "source": [
    "# Create logistic regression model and train it with training data"
   ]
  },
  {
   "cell_type": "code",
   "execution_count": 11,
   "id": "cab1ce7d",
   "metadata": {},
   "outputs": [],
   "source": [
    "import warnings\n",
    "warnings.filterwarnings('ignore')"
   ]
  },
  {
   "cell_type": "code",
   "execution_count": 12,
   "id": "8805aebe",
   "metadata": {},
   "outputs": [
    {
     "data": {
      "text/plain": [
       "LogisticRegression()"
      ]
     },
     "execution_count": 12,
     "metadata": {},
     "output_type": "execute_result"
    }
   ],
   "source": [
    "logmodel = LogisticRegression()\n",
    "logmodel.fit(X_train,y_train)"
   ]
  },
  {
   "cell_type": "markdown",
   "id": "c945465c",
   "metadata": {},
   "source": [
    "# Predict results"
   ]
  },
  {
   "cell_type": "code",
   "execution_count": 13,
   "id": "aacfb7a3",
   "metadata": {},
   "outputs": [],
   "source": [
    "pred = logmodel.predict(X_test)"
   ]
  },
  {
   "cell_type": "code",
   "execution_count": 14,
   "id": "3d4a3cb5",
   "metadata": {},
   "outputs": [],
   "source": [
    "df = pd.DataFrame(y_test)\n",
    "se = pd.Series(pred)\n",
    "df['Predictions'] = se.values\n",
    "tempdf = pd.DataFrame(logmodel.predict_proba(X_test))\n",
    "se1 = pd.Series(tempdf[0])\n",
    "ew = se1.round(decimals=3)\n",
    "df['Genuine probability'] = ew.values\n",
    "se2 = pd.Series(tempdf[1])\n",
    "ew1 = se2.round(decimals=3)\n",
    "df['Imposter probability'] = ew1.values"
   ]
  },
  {
   "cell_type": "code",
   "execution_count": 15,
   "id": "79ceebf3",
   "metadata": {},
   "outputs": [
    {
     "data": {
      "text/html": [
       "<div>\n",
       "<style scoped>\n",
       "    .dataframe tbody tr th:only-of-type {\n",
       "        vertical-align: middle;\n",
       "    }\n",
       "\n",
       "    .dataframe tbody tr th {\n",
       "        vertical-align: top;\n",
       "    }\n",
       "\n",
       "    .dataframe thead th {\n",
       "        text-align: right;\n",
       "    }\n",
       "</style>\n",
       "<table border=\"1\" class=\"dataframe\">\n",
       "  <thead>\n",
       "    <tr style=\"text-align: right;\">\n",
       "      <th></th>\n",
       "      <th>target</th>\n",
       "      <th>Predictions</th>\n",
       "      <th>Genuine probability</th>\n",
       "      <th>Imposter probability</th>\n",
       "    </tr>\n",
       "  </thead>\n",
       "  <tbody>\n",
       "    <tr>\n",
       "      <th>455</th>\n",
       "      <td>Genuine</td>\n",
       "      <td>Genuine</td>\n",
       "      <td>0.738</td>\n",
       "      <td>0.262</td>\n",
       "    </tr>\n",
       "    <tr>\n",
       "      <th>418</th>\n",
       "      <td>Genuine</td>\n",
       "      <td>Genuine</td>\n",
       "      <td>0.726</td>\n",
       "      <td>0.274</td>\n",
       "    </tr>\n",
       "    <tr>\n",
       "      <th>240</th>\n",
       "      <td>Genuine</td>\n",
       "      <td>Genuine</td>\n",
       "      <td>0.647</td>\n",
       "      <td>0.353</td>\n",
       "    </tr>\n",
       "    <tr>\n",
       "      <th>718</th>\n",
       "      <td>Imposter</td>\n",
       "      <td>Imposter</td>\n",
       "      <td>0.111</td>\n",
       "      <td>0.889</td>\n",
       "    </tr>\n",
       "    <tr>\n",
       "      <th>1169</th>\n",
       "      <td>Imposter</td>\n",
       "      <td>Genuine</td>\n",
       "      <td>0.508</td>\n",
       "      <td>0.492</td>\n",
       "    </tr>\n",
       "    <tr>\n",
       "      <th>...</th>\n",
       "      <td>...</td>\n",
       "      <td>...</td>\n",
       "      <td>...</td>\n",
       "      <td>...</td>\n",
       "    </tr>\n",
       "    <tr>\n",
       "      <th>1157</th>\n",
       "      <td>Imposter</td>\n",
       "      <td>Genuine</td>\n",
       "      <td>0.508</td>\n",
       "      <td>0.492</td>\n",
       "    </tr>\n",
       "    <tr>\n",
       "      <th>1152</th>\n",
       "      <td>Imposter</td>\n",
       "      <td>Genuine</td>\n",
       "      <td>0.630</td>\n",
       "      <td>0.370</td>\n",
       "    </tr>\n",
       "    <tr>\n",
       "      <th>783</th>\n",
       "      <td>Imposter</td>\n",
       "      <td>Imposter</td>\n",
       "      <td>0.133</td>\n",
       "      <td>0.867</td>\n",
       "    </tr>\n",
       "    <tr>\n",
       "      <th>591</th>\n",
       "      <td>Genuine</td>\n",
       "      <td>Genuine</td>\n",
       "      <td>0.769</td>\n",
       "      <td>0.231</td>\n",
       "    </tr>\n",
       "    <tr>\n",
       "      <th>503</th>\n",
       "      <td>Genuine</td>\n",
       "      <td>Genuine</td>\n",
       "      <td>0.722</td>\n",
       "      <td>0.278</td>\n",
       "    </tr>\n",
       "  </tbody>\n",
       "</table>\n",
       "<p>285 rows × 4 columns</p>\n",
       "</div>"
      ],
      "text/plain": [
       "        target Predictions  Genuine probability  Imposter probability\n",
       "455    Genuine     Genuine                0.738                 0.262\n",
       "418    Genuine     Genuine                0.726                 0.274\n",
       "240    Genuine     Genuine                0.647                 0.353\n",
       "718   Imposter    Imposter                0.111                 0.889\n",
       "1169  Imposter     Genuine                0.508                 0.492\n",
       "...        ...         ...                  ...                   ...\n",
       "1157  Imposter     Genuine                0.508                 0.492\n",
       "1152  Imposter     Genuine                0.630                 0.370\n",
       "783   Imposter    Imposter                0.133                 0.867\n",
       "591    Genuine     Genuine                0.769                 0.231\n",
       "503    Genuine     Genuine                0.722                 0.278\n",
       "\n",
       "[285 rows x 4 columns]"
      ]
     },
     "execution_count": 15,
     "metadata": {},
     "output_type": "execute_result"
    }
   ],
   "source": [
    "df"
   ]
  },
  {
   "cell_type": "markdown",
   "id": "54e7a35a",
   "metadata": {},
   "source": [
    "# Check Performance of Model"
   ]
  },
  {
   "cell_type": "markdown",
   "id": "7a9b4a1d",
   "metadata": {},
   "source": [
    "###  Accuracy"
   ]
  },
  {
   "cell_type": "code",
   "execution_count": 16,
   "id": "7f89e86c",
   "metadata": {},
   "outputs": [],
   "source": [
    "model_accuracy = metrics.accuracy_score(y_test,pred)"
   ]
  },
  {
   "cell_type": "code",
   "execution_count": 17,
   "id": "f756bc51",
   "metadata": {},
   "outputs": [
    {
     "data": {
      "text/plain": [
       "Genuine     149\n",
       "Imposter    136\n",
       "Name: target, dtype: int64"
      ]
     },
     "execution_count": 17,
     "metadata": {},
     "output_type": "execute_result"
    }
   ],
   "source": [
    "y_test.value_counts()"
   ]
  },
  {
   "cell_type": "code",
   "execution_count": null,
   "id": "89cbcaed",
   "metadata": {},
   "outputs": [],
   "source": []
  }
 ],
 "metadata": {
  "kernelspec": {
   "display_name": "Python 3 (ipykernel)",
   "language": "python",
   "name": "python3"
  },
  "language_info": {
   "codemirror_mode": {
    "name": "ipython",
    "version": 3
   },
   "file_extension": ".py",
   "mimetype": "text/x-python",
   "name": "python",
   "nbconvert_exporter": "python",
   "pygments_lexer": "ipython3",
   "version": "3.9.13"
  }
 },
 "nbformat": 4,
 "nbformat_minor": 5
}
