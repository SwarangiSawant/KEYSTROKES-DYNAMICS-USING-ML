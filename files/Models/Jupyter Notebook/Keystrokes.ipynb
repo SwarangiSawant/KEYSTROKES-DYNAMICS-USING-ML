{
 "cells": [
  {
   "cell_type": "code",
   "execution_count": 1,
   "id": "564f657c",
   "metadata": {},
   "outputs": [],
   "source": [
    "import psycopg2"
   ]
  },
  {
   "cell_type": "code",
   "execution_count": 2,
   "id": "b90444fc",
   "metadata": {},
   "outputs": [],
   "source": [
    "# Database configuration\n",
    "DB_HOST = 'localhost'\n",
    "DB_PORT = '5432'\n",
    "DB_NAME = 'SWARANGI'\n",
    "DB_USER = 'postgres'\n",
    "DB_PASSWORD = '19092002'"
   ]
  },
  {
   "cell_type": "code",
   "execution_count": 3,
   "id": "8411030d",
   "metadata": {},
   "outputs": [],
   "source": [
    "# Connect to the PostgreSQL database\n",
    "def connect_db():\n",
    "    return psycopg2.connect(\n",
    "        host=DB_HOST,\n",
    "        port=DB_PORT,\n",
    "        dbname=DB_NAME,\n",
    "        user=DB_USER,\n",
    "        password=DB_PASSWORD\n",
    "    )"
   ]
  },
  {
   "cell_type": "code",
   "execution_count": 4,
   "id": "0073ace2",
   "metadata": {},
   "outputs": [],
   "source": [
    "conn = connect_db()\n",
    "cursor = conn.cursor()"
   ]
  },
  {
   "cell_type": "code",
   "execution_count": 5,
   "id": "9adbf160",
   "metadata": {},
   "outputs": [],
   "source": [
    "import pandas as pd\n",
    "import numpy as np\n",
    "import matplotlib.pyplot as plt\n",
    "import seaborn as sns\n",
    "%matplotlib inline\n",
    "from matplotlib.colors import ListedColormap\n",
    "from sklearn.model_selection import train_test_split\n",
    "from sklearn import metrics\n",
    "from sklearn.preprocessing import StandardScaler\n",
    "from sklearn.metrics import classification_report,confusion_matrix\n",
    "from sklearn.neighbors import KNeighborsClassifier\n",
    "\n",
    "# libraries for computation\n",
    "import pandas as pd\n",
    "import numpy as np\n",
    "\n",
    "#library for train test split\n",
    "from sklearn.model_selection import train_test_split,cross_val_score,KFold\n",
    "\n",
    "#library for preprocessing\n",
    "from sklearn.preprocessing import StandardScaler\n",
    "\n",
    "#library for Dimensionality reduction\n",
    "from sklearn.decomposition import PCA\n",
    "from sklearn.decomposition import TruncatedSVD\n",
    "\n",
    "#Library for feature selection techniques\n",
    "from sklearn.feature_selection import RFE\n",
    "from sklearn.feature_selection import RFECV\n",
    "from sklearn.feature_selection import SelectKBest\n",
    "from sklearn.feature_selection import chi2\n",
    "from sklearn.feature_selection import SelectFromModel\n",
    "\n",
    "#libraries for various ML models \n",
    "from sklearn import svm\n",
    "from sklearn.svm import SVC\n",
    "from sklearn.linear_model import LogisticRegression\n",
    "from sklearn.neural_network import MLPClassifier\n",
    "from sklearn.neighbors import KNeighborsClassifier\n",
    "from sklearn.tree import DecisionTreeClassifier\n",
    "#ensemble models\n",
    "from sklearn.ensemble import BaggingClassifier\n",
    "from sklearn.ensemble import AdaBoostClassifier\n",
    "from sklearn.ensemble import GradientBoostingClassifier\n",
    "from sklearn.ensemble import VotingClassifier\n",
    "from sklearn.ensemble import RandomForestClassifier\n",
    "from sklearn.ensemble import ExtraTreesClassifier\n",
    "from sklearn.ensemble import RandomForestRegressor\n",
    "\n",
    "\n",
    "\n",
    "#libraries for model performance evaluation\n",
    "from sklearn import metrics\n",
    "from sklearn.metrics import classification_report,confusion_matrix,accuracy_score,f1_score\n",
    "\n",
    "#libraries for visualization\n",
    "import matplotlib.pyplot as plt\n",
    "import seaborn as sns\n",
    "%matplotlib inline\n",
    "from matplotlib.colors import ListedColormap\n",
    "\n",
    "import warnings\n",
    "warnings.filterwarnings('ignore')\n"
   ]
  },
  {
   "cell_type": "code",
   "execution_count": 6,
   "id": "e1fc3050",
   "metadata": {},
   "outputs": [],
   "source": [
    "def plotConfusion(cm):\n",
    "    sns.set_style('white')\n",
    "    plt.clf()\n",
    "    plt.imshow(cm, interpolation='nearest', cmap=plt.cm.Pastel1)\n",
    "    classNames = ['Genuine','Imposter']\n",
    "    plt.title('Confusion Matrix',fontsize = 15)\n",
    "    plt.ylabel('True label',fontsize=15)\n",
    "    plt.xlabel('Predicted label',fontsize=15)\n",
    "    tick_marks = np.arange(len(classNames))\n",
    "    plt.xticks(tick_marks, classNames,fontsize=12)\n",
    "    plt.yticks(tick_marks, classNames,fontsize=12)\n",
    "    s = [['TP','FN'], ['FP', 'TN']]\n",
    "    for i in range(2):\n",
    "        for j in range(2):\n",
    "            plt.text(j,i, str(s[i][j])+\" = \"+str(cm[i][j]))\n",
    "    plt.show()"
   ]
  },
  {
   "cell_type": "code",
   "execution_count": 10,
   "id": "c0e55da1",
   "metadata": {},
   "outputs": [],
   "source": [
    "cursor.execute(\"SELECT * FROM keystrokes_data;\")\n",
    "records = cursor.fetchall()\n",
    "\n",
    "# Create a DataFrame from the fetched records\n",
    "data = pd.DataFrame(records, columns=[desc[0] for desc in cursor.description])"
   ]
  },
  {
   "cell_type": "code",
   "execution_count": 11,
   "id": "6bcddce7",
   "metadata": {},
   "outputs": [
    {
     "data": {
      "text/html": [
       "<div>\n",
       "<style scoped>\n",
       "    .dataframe tbody tr th:only-of-type {\n",
       "        vertical-align: middle;\n",
       "    }\n",
       "\n",
       "    .dataframe tbody tr th {\n",
       "        vertical-align: top;\n",
       "    }\n",
       "\n",
       "    .dataframe thead th {\n",
       "        text-align: right;\n",
       "    }\n",
       "</style>\n",
       "<table border=\"1\" class=\"dataframe\">\n",
       "  <thead>\n",
       "    <tr style=\"text-align: right;\">\n",
       "      <th></th>\n",
       "      <th>username</th>\n",
       "      <th>h_key1</th>\n",
       "      <th>dd_key1_key2</th>\n",
       "      <th>ud_key1_key2</th>\n",
       "      <th>h_key2</th>\n",
       "      <th>dd_key2_key3</th>\n",
       "      <th>ud_key2_key3</th>\n",
       "      <th>h_key3</th>\n",
       "      <th>dd_key3_key4</th>\n",
       "      <th>ud_key3_key4</th>\n",
       "      <th>...</th>\n",
       "      <th>dd_key5_key6</th>\n",
       "      <th>ud_key5_key6</th>\n",
       "      <th>h_key6</th>\n",
       "      <th>dd_key6_key7</th>\n",
       "      <th>ud_key6_key7</th>\n",
       "      <th>h_key7</th>\n",
       "      <th>dd_key7_key8</th>\n",
       "      <th>ud_key7_key8</th>\n",
       "      <th>h_key8</th>\n",
       "      <th>target</th>\n",
       "    </tr>\n",
       "  </thead>\n",
       "  <tbody>\n",
       "    <tr>\n",
       "      <th>0</th>\n",
       "      <td>Nikhil</td>\n",
       "      <td>0.119</td>\n",
       "      <td>0.272</td>\n",
       "      <td>0.153</td>\n",
       "      <td>0.103</td>\n",
       "      <td>0.208</td>\n",
       "      <td>0.105</td>\n",
       "      <td>0.103</td>\n",
       "      <td>0.288</td>\n",
       "      <td>0.185</td>\n",
       "      <td>...</td>\n",
       "      <td>0.487</td>\n",
       "      <td>0.392</td>\n",
       "      <td>0.216</td>\n",
       "      <td>0.161</td>\n",
       "      <td>-0.055</td>\n",
       "      <td>0.119</td>\n",
       "      <td>0.240</td>\n",
       "      <td>0.121</td>\n",
       "      <td>0.103</td>\n",
       "      <td>Genuine</td>\n",
       "    </tr>\n",
       "    <tr>\n",
       "      <th>1</th>\n",
       "      <td>Nikhil</td>\n",
       "      <td>0.119</td>\n",
       "      <td>0.272</td>\n",
       "      <td>0.153</td>\n",
       "      <td>0.103</td>\n",
       "      <td>0.216</td>\n",
       "      <td>0.113</td>\n",
       "      <td>0.103</td>\n",
       "      <td>0.287</td>\n",
       "      <td>0.184</td>\n",
       "      <td>...</td>\n",
       "      <td>0.751</td>\n",
       "      <td>0.608</td>\n",
       "      <td>0.304</td>\n",
       "      <td>0.240</td>\n",
       "      <td>-0.064</td>\n",
       "      <td>0.119</td>\n",
       "      <td>0.225</td>\n",
       "      <td>0.106</td>\n",
       "      <td>0.103</td>\n",
       "      <td>Genuine</td>\n",
       "    </tr>\n",
       "    <tr>\n",
       "      <th>2</th>\n",
       "      <td>Nikhil</td>\n",
       "      <td>0.127</td>\n",
       "      <td>0.352</td>\n",
       "      <td>0.225</td>\n",
       "      <td>0.143</td>\n",
       "      <td>0.240</td>\n",
       "      <td>0.097</td>\n",
       "      <td>0.143</td>\n",
       "      <td>0.344</td>\n",
       "      <td>0.201</td>\n",
       "      <td>...</td>\n",
       "      <td>0.614</td>\n",
       "      <td>0.480</td>\n",
       "      <td>0.336</td>\n",
       "      <td>0.265</td>\n",
       "      <td>-0.071</td>\n",
       "      <td>0.135</td>\n",
       "      <td>0.232</td>\n",
       "      <td>0.097</td>\n",
       "      <td>0.143</td>\n",
       "      <td>Genuine</td>\n",
       "    </tr>\n",
       "    <tr>\n",
       "      <th>3</th>\n",
       "      <td>Nikhil</td>\n",
       "      <td>0.122</td>\n",
       "      <td>0.315</td>\n",
       "      <td>0.193</td>\n",
       "      <td>0.127</td>\n",
       "      <td>0.200</td>\n",
       "      <td>0.073</td>\n",
       "      <td>0.111</td>\n",
       "      <td>0.400</td>\n",
       "      <td>0.289</td>\n",
       "      <td>...</td>\n",
       "      <td>0.377</td>\n",
       "      <td>0.290</td>\n",
       "      <td>0.206</td>\n",
       "      <td>0.151</td>\n",
       "      <td>-0.055</td>\n",
       "      <td>0.135</td>\n",
       "      <td>0.184</td>\n",
       "      <td>0.049</td>\n",
       "      <td>0.111</td>\n",
       "      <td>Genuine</td>\n",
       "    </tr>\n",
       "    <tr>\n",
       "      <th>4</th>\n",
       "      <td>Nikhil</td>\n",
       "      <td>0.143</td>\n",
       "      <td>0.232</td>\n",
       "      <td>0.089</td>\n",
       "      <td>0.119</td>\n",
       "      <td>0.208</td>\n",
       "      <td>0.089</td>\n",
       "      <td>0.127</td>\n",
       "      <td>0.264</td>\n",
       "      <td>0.137</td>\n",
       "      <td>...</td>\n",
       "      <td>0.351</td>\n",
       "      <td>0.264</td>\n",
       "      <td>0.216</td>\n",
       "      <td>0.153</td>\n",
       "      <td>-0.063</td>\n",
       "      <td>0.119</td>\n",
       "      <td>0.160</td>\n",
       "      <td>0.041</td>\n",
       "      <td>0.143</td>\n",
       "      <td>Genuine</td>\n",
       "    </tr>\n",
       "  </tbody>\n",
       "</table>\n",
       "<p>5 rows × 24 columns</p>\n",
       "</div>"
      ],
      "text/plain": [
       "  username  h_key1  dd_key1_key2  ud_key1_key2  h_key2  dd_key2_key3  \\\n",
       "0   Nikhil   0.119         0.272         0.153   0.103         0.208   \n",
       "1   Nikhil   0.119         0.272         0.153   0.103         0.216   \n",
       "2   Nikhil   0.127         0.352         0.225   0.143         0.240   \n",
       "3   Nikhil   0.122         0.315         0.193   0.127         0.200   \n",
       "4   Nikhil   0.143         0.232         0.089   0.119         0.208   \n",
       "\n",
       "   ud_key2_key3  h_key3  dd_key3_key4  ud_key3_key4  ...  dd_key5_key6  \\\n",
       "0         0.105   0.103         0.288         0.185  ...         0.487   \n",
       "1         0.113   0.103         0.287         0.184  ...         0.751   \n",
       "2         0.097   0.143         0.344         0.201  ...         0.614   \n",
       "3         0.073   0.111         0.400         0.289  ...         0.377   \n",
       "4         0.089   0.127         0.264         0.137  ...         0.351   \n",
       "\n",
       "   ud_key5_key6  h_key6  dd_key6_key7  ud_key6_key7  h_key7  dd_key7_key8  \\\n",
       "0         0.392   0.216         0.161        -0.055   0.119         0.240   \n",
       "1         0.608   0.304         0.240        -0.064   0.119         0.225   \n",
       "2         0.480   0.336         0.265        -0.071   0.135         0.232   \n",
       "3         0.290   0.206         0.151        -0.055   0.135         0.184   \n",
       "4         0.264   0.216         0.153        -0.063   0.119         0.160   \n",
       "\n",
       "   ud_key7_key8  h_key8   target  \n",
       "0         0.121   0.103  Genuine  \n",
       "1         0.106   0.103  Genuine  \n",
       "2         0.097   0.143  Genuine  \n",
       "3         0.049   0.111  Genuine  \n",
       "4         0.041   0.143  Genuine  \n",
       "\n",
       "[5 rows x 24 columns]"
      ]
     },
     "execution_count": 11,
     "metadata": {},
     "output_type": "execute_result"
    }
   ],
   "source": [
    "data.head()"
   ]
  },
  {
   "cell_type": "code",
   "execution_count": 12,
   "id": "1581d6b4",
   "metadata": {},
   "outputs": [
    {
     "data": {
      "text/plain": [
       "Index(['username', 'h_key1', 'dd_key1_key2', 'ud_key1_key2', 'h_key2',\n",
       "       'dd_key2_key3', 'ud_key2_key3', 'h_key3', 'dd_key3_key4',\n",
       "       'ud_key3_key4', 'h_key4', 'dd_key4_key5', 'ud_key4_key5', 'h_key5',\n",
       "       'dd_key5_key6', 'ud_key5_key6', 'h_key6', 'dd_key6_key7',\n",
       "       'ud_key6_key7', 'h_key7', 'dd_key7_key8', 'ud_key7_key8', 'h_key8',\n",
       "       'target'],\n",
       "      dtype='object')"
      ]
     },
     "execution_count": 12,
     "metadata": {},
     "output_type": "execute_result"
    }
   ],
   "source": [
    "data.columns"
   ]
  },
  {
   "cell_type": "code",
   "execution_count": 13,
   "id": "3b0b6c98",
   "metadata": {},
   "outputs": [
    {
     "name": "stdout",
     "output_type": "stream",
     "text": [
      "<class 'pandas.core.frame.DataFrame'>\n",
      "RangeIndex: 1425 entries, 0 to 1424\n",
      "Data columns (total 24 columns):\n",
      " #   Column        Non-Null Count  Dtype  \n",
      "---  ------        --------------  -----  \n",
      " 0   username      1425 non-null   object \n",
      " 1   h_key1        1425 non-null   float64\n",
      " 2   dd_key1_key2  1425 non-null   float64\n",
      " 3   ud_key1_key2  1425 non-null   float64\n",
      " 4   h_key2        1425 non-null   float64\n",
      " 5   dd_key2_key3  1425 non-null   float64\n",
      " 6   ud_key2_key3  1425 non-null   float64\n",
      " 7   h_key3        1425 non-null   float64\n",
      " 8   dd_key3_key4  1425 non-null   float64\n",
      " 9   ud_key3_key4  1425 non-null   float64\n",
      " 10  h_key4        1425 non-null   float64\n",
      " 11  dd_key4_key5  1425 non-null   float64\n",
      " 12  ud_key4_key5  1425 non-null   float64\n",
      " 13  h_key5        1425 non-null   float64\n",
      " 14  dd_key5_key6  1425 non-null   float64\n",
      " 15  ud_key5_key6  1425 non-null   float64\n",
      " 16  h_key6        1425 non-null   float64\n",
      " 17  dd_key6_key7  1425 non-null   float64\n",
      " 18  ud_key6_key7  1425 non-null   float64\n",
      " 19  h_key7        1425 non-null   float64\n",
      " 20  dd_key7_key8  1425 non-null   float64\n",
      " 21  ud_key7_key8  1425 non-null   float64\n",
      " 22  h_key8        1425 non-null   float64\n",
      " 23  target        1425 non-null   object \n",
      "dtypes: float64(22), object(2)\n",
      "memory usage: 267.3+ KB\n"
     ]
    }
   ],
   "source": [
    "data.info()"
   ]
  },
  {
   "cell_type": "code",
   "execution_count": 15,
   "id": "854d88e7",
   "metadata": {},
   "outputs": [
    {
     "data": {
      "text/plain": [
       "Nikhil      710\n",
       "Deepti      225\n",
       "Huy         200\n",
       "Shridhar     50\n",
       "Vikram       38\n",
       "Tarang       33\n",
       "Vishu        33\n",
       "Rohan        25\n",
       "Sushmit      25\n",
       "Abhishek     24\n",
       "Tejas C      23\n",
       "Tejas S      22\n",
       "Rutvik       14\n",
       "XYZ           3\n",
       "Name: username, dtype: int64"
      ]
     },
     "execution_count": 15,
     "metadata": {},
     "output_type": "execute_result"
    }
   ],
   "source": [
    "data['username'].value_counts()"
   ]
  },
  {
   "cell_type": "code",
   "execution_count": 16,
   "id": "92cb04fd",
   "metadata": {},
   "outputs": [
    {
     "data": {
      "text/plain": [
       "Imposter    713\n",
       "Genuine     712\n",
       "Name: target, dtype: int64"
      ]
     },
     "execution_count": 16,
     "metadata": {},
     "output_type": "execute_result"
    }
   ],
   "source": [
    "data['target'].value_counts()"
   ]
  },
  {
   "cell_type": "code",
   "execution_count": 17,
   "id": "341f157a",
   "metadata": {},
   "outputs": [
    {
     "data": {
      "text/plain": [
       "<AxesSubplot:xlabel='target', ylabel='count'>"
      ]
     },
     "execution_count": 17,
     "metadata": {},
     "output_type": "execute_result"
    },
    {
     "data": {
      "image/png": "[encoded data removed]",
      "text/plain": [
       "<Figure size 640x480 with 1 Axes>"
      ]
     },
     "metadata": {},
     "output_type": "display_data"
    }
   ],
   "source": [
    "sns.countplot(x='target',data=data,palette='RdBu_r')"
   ]
  },
  {
   "cell_type": "code",
   "execution_count": 76,
   "id": "66625587",
   "metadata": {},
   "outputs": [],
   "source": [
    "features = list(data.columns[1:23])\n",
    "X = data[features]\n",
    "y = data['target']\n",
    "train, test = train_test_split(data, test_size = 0.2)\n",
    "X_train = train[features]\n",
    "y_train = train['target']\n",
    "X_test = test[features]\n",
    "y_test = test['target']"
   ]
  },
  {
   "cell_type": "code",
   "execution_count": 19,
   "id": "6fc89052",
   "metadata": {},
   "outputs": [
    {
     "name": "stdout",
     "output_type": "stream",
     "text": [
      "[[134   4]\n",
      " [  8 139]]\n"
     ]
    },
    {
     "data": {
      "image/png": "[encoded data removed]",
      "text/plain": [
       "<Figure size 640x480 with 1 Axes>"
      ]
     },
     "metadata": {},
     "output_type": "display_data"
    }
   ],
   "source": [
    "knn = KNeighborsClassifier(n_neighbors=5)\n",
    "knn.fit(X_train,y_train)\n",
    "pred = knn.predict(X_test)\n",
    "cm = confusion_matrix(y_test,pred)\n",
    "print(cm)\n",
    "plotConfusion(cm)"
   ]
  },
  {
   "cell_type": "code",
   "execution_count": 20,
   "id": "8f9705f6",
   "metadata": {},
   "outputs": [
    {
     "name": "stdout",
     "output_type": "stream",
     "text": [
      "[0.9473813830590466, 0.9332594316964121, 0.9508820312378503, 0.9473541649521545, 0.9579051075965775, 0.9473774931165715, 0.9543971986511737, 0.9473774931165715, 0.9543971986511737, 0.9438651785575435, 0.9473813830590466, 0.9368483258772362, 0.943872091576459, 0.9368483258772362, 0.9368483258772362]\n"
     ]
    },
    {
     "data": {
      "image/png": "[encoded data removed]",
      "text/plain": [
       "<Figure size 640x480 with 1 Axes>"
      ]
     },
     "metadata": {},
     "output_type": "display_data"
    }
   ],
   "source": [
    "#KNN for different k values\n",
    "kVals = [1,2,3,4,5,6,7,8,9,10,11,12,13,14,15]\n",
    "f1_scores = []\n",
    "\n",
    "for k in kVals:\n",
    "    knn = KNeighborsClassifier(n_neighbors=k)\n",
    "    knn.fit(X_train,y_train)\n",
    "    pred = knn.predict(X_test)\n",
    "    f1_scores.append(f1_score(y_test,pred,average='weighted'))\n",
    "    \n",
    "plt.plot(kVals,f1_scores)    \n",
    "print(f1_scores) "
   ]
  },
  {
   "cell_type": "code",
   "execution_count": 21,
   "id": "9661bca0",
   "metadata": {},
   "outputs": [
    {
     "name": "stdout",
     "output_type": "stream",
     "text": [
      "F1 Score:  0.8158797409902271\n",
      "Accuracy Score:  0.8175438596491228\n"
     ]
    }
   ],
   "source": [
    "#Logistic Regression\n",
    "logmodel = LogisticRegression()\n",
    "logmodel.fit(X_train,y_train)\n",
    "pred = logmodel.predict(X_test)\n",
    "print(\"F1 Score: \", metrics.f1_score(y_test,pred, average='weighted'))\n",
    "print(\"Accuracy Score: \", accuracy_score(y_test,pred))"
   ]
  },
  {
   "cell_type": "code",
   "execution_count": 22,
   "id": "5bb9a0d7",
   "metadata": {},
   "outputs": [
    {
     "name": "stdout",
     "output_type": "stream",
     "text": [
      "F1 Score:  0.9789473684210527\n",
      "Accuracy Score:  0.9789473684210527\n"
     ]
    }
   ],
   "source": [
    "#DT\n",
    "d_classifier = DecisionTreeClassifier(criterion = 'entropy', random_state = 42)\n",
    "d_classifier.fit(X_train,y_train)\n",
    "pred = d_classifier.predict(X_test)\n",
    "print(\"F1 Score: \", metrics.f1_score(y_test,pred, average='weighted'))\n",
    "print(\"Accuracy Score: \", accuracy_score(y_test,pred))"
   ]
  },
  {
   "cell_type": "code",
   "execution_count": 23,
   "id": "b1d8fe94",
   "metadata": {},
   "outputs": [
    {
     "name": "stdout",
     "output_type": "stream",
     "text": [
      "F1 Score:  0.9894747217843156\n",
      "Accuracy Score:  0.9894736842105263\n"
     ]
    }
   ],
   "source": [
    "#Ensemble Random Forest Classifier\n",
    "rf_classifier = RandomForestClassifier(n_estimators=100, random_state = 42)\n",
    "rf_classifier.fit(X_train,y_train)\n",
    "pred = rf_classifier.predict(X_test)\n",
    "print(\"F1 Score: \", metrics.f1_score(y_test,pred, average='weighted'))\n",
    "print(\"Accuracy Score: \", accuracy_score(y_test,pred))"
   ]
  },
  {
   "cell_type": "code",
   "execution_count": 24,
   "id": "3d73fc1e",
   "metadata": {},
   "outputs": [
    {
     "name": "stdout",
     "output_type": "stream",
     "text": [
      "[0.9754410174967365, 0.9824578696405261, 0.9824578696405261, 0.9859673328388477, 0.9894747217843156, 0.9894747217843156, 0.9894747217843156, 0.9894747217843156]\n"
     ]
    },
    {
     "data": {
      "image/png": "[encoded data removed]",
      "text/plain": [
       "<Figure size 640x480 with 1 Axes>"
      ]
     },
     "metadata": {},
     "output_type": "display_data"
    }
   ],
   "source": [
    "#Ensemble Random Forest Classifier Fine Tunning\n",
    "estimators = [5,10,15,20,30,35,40,48]\n",
    "f1_scores = []\n",
    "for e in estimators:\n",
    "    rf_classifier = RandomForestClassifier(n_estimators=e, random_state = 42)\n",
    "    rf_classifier.fit(X_train,y_train)\n",
    "    pred = rf_classifier.predict(X_test)\n",
    "    f1_scores.append(f1_score(y_test,pred,average='weighted'))\n",
    "    \n",
    "plt.plot(estimators,f1_scores) \n",
    "print(f1_scores)"
   ]
  },
  {
   "cell_type": "code",
   "execution_count": 25,
   "id": "077f9617",
   "metadata": {},
   "outputs": [
    {
     "name": "stdout",
     "output_type": "stream",
     "text": [
      "F1 Score:  0.9789473684210527\n",
      "Accuracy Score:  0.9789473684210527\n"
     ]
    }
   ],
   "source": [
    "#Bagging Classifier with Decision tree as base learner\n",
    "cart = DecisionTreeClassifier()\n",
    "model = BaggingClassifier(base_estimator=cart, n_estimators=150, random_state=7)\n",
    "model.fit(X_train, y_train)\n",
    "pred = model.predict(X_test)\n",
    "print(\"F1 Score: \", metrics.f1_score(y_test,pred, average='weighted'))\n",
    "print(\"Accuracy Score: \", accuracy_score(y_test,pred))"
   ]
  },
  {
   "cell_type": "code",
   "execution_count": 27,
   "id": "0ff75e03",
   "metadata": {},
   "outputs": [
    {
     "name": "stdout",
     "output_type": "stream",
     "text": [
      "F1 Score:  0.9929824561403509\n",
      "Accuracy Score:  0.9929824561403509\n"
     ]
    }
   ],
   "source": [
    "#ExtraTreeClassifier\n",
    "num_trees = 80\n",
    "max_features = 20\n",
    "model = ExtraTreesClassifier(n_estimators=num_trees, max_features=max_features)\n",
    "model.fit(X_train, y_train)\n",
    "pred = model.predict(X_test)\n",
    "print(\"F1 Score: \", metrics.f1_score(y_test,pred, average='weighted'))\n",
    "print(\"Accuracy Score: \", accuracy_score(y_test,pred))"
   ]
  },
  {
   "cell_type": "code",
   "execution_count": 28,
   "id": "1a3d1835",
   "metadata": {},
   "outputs": [
    {
     "name": "stdout",
     "output_type": "stream",
     "text": [
      "F1 Score:  0.9929824561403509\n",
      "Accuracy Score:  0.9929824561403509\n"
     ]
    }
   ],
   "source": [
    "# AdaBoostClassifier\n",
    "seed = 7\n",
    "num_trees = 100\n",
    "model = AdaBoostClassifier(n_estimators=num_trees, random_state=seed)\n",
    "model.fit(X_train, y_train)\n",
    "pred = model.predict(X_test)\n",
    "print(\"F1 Score: \", metrics.f1_score(y_test,pred, average='weighted'))\n",
    "print(\"Accuracy Score: \", accuracy_score(y_test,pred))"
   ]
  },
  {
   "cell_type": "code",
   "execution_count": 29,
   "id": "98d8533e",
   "metadata": {},
   "outputs": [
    {
     "name": "stdout",
     "output_type": "stream",
     "text": [
      "F1 Score:  0.9929824561403509\n",
      "Accuracy Score:  0.9929824561403509\n"
     ]
    }
   ],
   "source": [
    "seed = 7\n",
    "num_trees = 100\n",
    "model = GradientBoostingClassifier(n_estimators=num_trees, random_state=seed)\n",
    "model.fit(X_train, y_train)\n",
    "pred = model.predict(X_test)\n",
    "print(\"F1 Score: \", metrics.f1_score(y_test,pred, average='weighted'))\n",
    "print(\"Accuracy Score: \", accuracy_score(y_test,pred))"
   ]
  },
  {
   "cell_type": "code",
   "execution_count": 31,
   "id": "42244974",
   "metadata": {},
   "outputs": [
    {
     "name": "stdout",
     "output_type": "stream",
     "text": [
      "F1 Score:  0.9929824561403509\n",
      "Accuracy Score:  0.9929824561403509\n",
      "[[137   1]\n",
      " [  1 146]]\n"
     ]
    },
    {
     "data": {
      "image/png": "[encoded data removed]",
      "text/plain": [
       "<Figure size 640x480 with 1 Axes>"
      ]
     },
     "metadata": {},
     "output_type": "display_data"
    }
   ],
   "source": [
    "# Try with Different Models\n",
    "from sklearn.linear_model import LogisticRegression\n",
    "from sklearn.tree import DecisionTreeClassifier\n",
    "from sklearn.svm import SVC\n",
    "from sklearn.ensemble import VotingClassifier\n",
    "# create the sub models\n",
    "estimators = []\n",
    "model1 = KNeighborsClassifier(n_neighbors=5)\n",
    "estimators.append(('Knn', model1))\n",
    "model2 = RandomForestClassifier(n_estimators=100, max_features=20)\n",
    "estimators.append(('RandomForest', model2))\n",
    "model3 = ExtraTreesClassifier(n_estimators=100, max_features=20)\n",
    "estimators.append(('ExtraTree', model3))\n",
    "# create the ensemble model\n",
    "ensemble = VotingClassifier(estimators)\n",
    "ensemble.fit(X_train, y_train)\n",
    "pred = ensemble.predict(X_test)\n",
    "print(\"F1 Score: \", metrics.f1_score(y_test,pred, average='weighted'))\n",
    "print(\"Accuracy Score: \", accuracy_score(y_test,pred))\n",
    "cm = confusion_matrix(y_test,pred)\n",
    "print(cm)\n",
    "plotConfusion(cm)"
   ]
  },
  {
   "cell_type": "code",
   "execution_count": 32,
   "id": "f775ed0f",
   "metadata": {},
   "outputs": [
    {
     "name": "stdout",
     "output_type": "stream",
     "text": [
      "F1 Score:  0.9824600299107152\n",
      "Accuracy Score:  0.9824561403508771\n"
     ]
    }
   ],
   "source": [
    "#MLPClassifier\n",
    "net = net = MLPClassifier(random_state=2,hidden_layer_sizes=(100,200,330,10),max_iter=500,activation= 'relu', learning_rate= 'invscaling', solver='adam')\n",
    "net.fit(X_train,y_train)\n",
    "pred= net.predict(X_test)\n",
    "\n",
    "print(\"F1 Score: \", metrics.f1_score(y_test,pred, average='weighted'))\n",
    "print(\"Accuracy Score: \", accuracy_score(y_test,pred))"
   ]
  },
  {
   "cell_type": "code",
   "execution_count": 33,
   "id": "8fcbb639",
   "metadata": {},
   "outputs": [],
   "source": [
    "pca = PCA(n_components=15)  \n",
    "X_train_pca = pca.fit_transform(X_train)  \n",
    "X_test_pca = pca.transform(X_test) "
   ]
  },
  {
   "cell_type": "code",
   "execution_count": 34,
   "id": "931806bb",
   "metadata": {},
   "outputs": [
    {
     "name": "stdout",
     "output_type": "stream",
     "text": [
      "F1 Score:  0.9579051075965775\n",
      "Accuracy Score:  0.9578947368421052\n"
     ]
    }
   ],
   "source": [
    "#KNN\n",
    "knn = KNeighborsClassifier(n_neighbors=5)\n",
    "knn.fit(X_train_pca,y_train)\n",
    "pred = knn.predict(X_test_pca)\n",
    "print(\"F1 Score: \", metrics.f1_score(y_test,pred, average='weighted'))\n",
    "print(\"Accuracy Score: \", accuracy_score(y_test,pred))"
   ]
  },
  {
   "cell_type": "code",
   "execution_count": 35,
   "id": "9dc18e81",
   "metadata": {},
   "outputs": [
    {
     "name": "stdout",
     "output_type": "stream",
     "text": [
      "[0.9473813830590466, 0.9332594316964121, 0.9508820312378503, 0.9473541649521545, 0.9579051075965775, 0.9473774931165715, 0.9543971986511737, 0.9473774931165715, 0.9543971986511737, 0.9438651785575435, 0.9473813830590466, 0.9368483258772362, 0.943872091576459, 0.9368483258772362, 0.9368483258772362]\n"
     ]
    },
    {
     "data": {
      "image/png": "[encoded data removed]",
      "text/plain": [
       "<Figure size 640x480 with 1 Axes>"
      ]
     },
     "metadata": {},
     "output_type": "display_data"
    }
   ],
   "source": [
    "#KNN for different k values\n",
    "kVals = [1,2,3,4,5,6,7,8,9,10,11,12,13,14,15]\n",
    "f1_scores = []\n",
    "\n",
    "for k in kVals:\n",
    "    knn = KNeighborsClassifier(n_neighbors=k)\n",
    "    knn.fit(X_train_pca,y_train)\n",
    "    pred = knn.predict(X_test_pca)\n",
    "    f1_scores.append(f1_score(y_test,pred,average='weighted'))\n",
    "    \n",
    "plt.plot(kVals,f1_scores)    \n",
    "print(f1_scores) "
   ]
  },
  {
   "cell_type": "code",
   "execution_count": 36,
   "id": "85f44e4c",
   "metadata": {},
   "outputs": [
    {
     "name": "stdout",
     "output_type": "stream",
     "text": [
      "F1 Score:  0.9719298245614035\n",
      "Accuracy Score:  0.9719298245614035\n"
     ]
    }
   ],
   "source": [
    "#Ensemble Random Forest Classifier\n",
    "rf_classifier = RandomForestClassifier(n_estimators=150, random_state = 42)\n",
    "rf_classifier.fit(X_train_pca,y_train)\n",
    "pred = rf_classifier.predict(X_test_pca)\n",
    "print(\"F1 Score: \", metrics.f1_score(y_test,pred, average='weighted'))\n",
    "print(\"Accuracy Score: \", accuracy_score(y_test,pred))"
   ]
  },
  {
   "cell_type": "code",
   "execution_count": 37,
   "id": "43ddd6fb",
   "metadata": {},
   "outputs": [
    {
     "name": "stdout",
     "output_type": "stream",
     "text": [
      "F1 Score:  0.9684171600032438\n",
      "Accuracy Score:  0.968421052631579\n"
     ]
    }
   ],
   "source": [
    "#ExtraTreeClassifier\n",
    "from sklearn.ensemble import ExtraTreesClassifier\n",
    "model = ExtraTreesClassifier(n_estimators=100, max_features=5)\n",
    "model.fit(X_train_pca, y_train)\n",
    "pred = model.predict(X_test_pca)\n",
    "print(\"F1 Score: \", metrics.f1_score(y_test,pred, average='weighted'))\n",
    "print(\"Accuracy Score: \", accuracy_score(y_test,pred))"
   ]
  },
  {
   "cell_type": "code",
   "execution_count": 38,
   "id": "333dae30",
   "metadata": {},
   "outputs": [
    {
     "name": "stdout",
     "output_type": "stream",
     "text": [
      "F1 Score:  0.9438527373293869\n",
      "Accuracy Score:  0.9438596491228071\n"
     ]
    }
   ],
   "source": [
    "pca = PCA(n_components=5)  \n",
    "X_train_pca = pca.fit_transform(X_train)  \n",
    "X_test_pca = pca.transform(X_test) \n",
    "#Version 13 imporvement\n",
    "# Try with Different Models\n",
    "from sklearn.linear_model import LogisticRegression\n",
    "from sklearn.tree import DecisionTreeClassifier\n",
    "from sklearn.svm import SVC\n",
    "from sklearn.ensemble import VotingClassifier\n",
    "# create the sub models\n",
    "estimators = []\n",
    "model1 = KNeighborsClassifier(n_neighbors=4)\n",
    "estimators.append(('Knn', model1))\n",
    "model2 = RandomForestClassifier(n_estimators=100, max_features=5)\n",
    "estimators.append(('RandomForest', model2))\n",
    "model3 = ExtraTreesClassifier(n_estimators=100, max_features=5)\n",
    "estimators.append(('ExtraTree', model3))\n",
    "# create the ensemble model\n",
    "ensemble = VotingClassifier(estimators)\n",
    "ensemble.fit(X_train_pca, y_train)\n",
    "pred = ensemble.predict(X_test_pca)\n",
    "print(\"F1 Score: \", metrics.f1_score(y_test,pred, average='weighted'))\n",
    "print(\"Accuracy Score: \", accuracy_score(y_test,pred))"
   ]
  },
  {
   "cell_type": "code",
   "execution_count": 40,
   "id": "ba5fcb66",
   "metadata": {},
   "outputs": [],
   "source": [
    "svd = TruncatedSVD(n_components=15)\n",
    "X_train_svd = svd.fit_transform(X_train,y_train)\n",
    "X_test_svd = svd.transform(X_test)"
   ]
  },
  {
   "cell_type": "code",
   "execution_count": 41,
   "id": "24ddc70b",
   "metadata": {},
   "outputs": [
    {
     "name": "stdout",
     "output_type": "stream",
     "text": [
      "F1 Score:  0.9579051075965775\n",
      "Accuracy Score:  0.9578947368421052\n"
     ]
    }
   ],
   "source": [
    "#KNN\n",
    "knn = KNeighborsClassifier(n_neighbors=5)\n",
    "knn.fit(X_train_svd,y_train)\n",
    "pred = knn.predict(X_test_svd)\n",
    "print(\"F1 Score: \", metrics.f1_score(y_test,pred, average='weighted'))\n",
    "print(\"Accuracy Score: \", accuracy_score(y_test,pred))"
   ]
  },
  {
   "cell_type": "code",
   "execution_count": 42,
   "id": "227d3760",
   "metadata": {},
   "outputs": [
    {
     "name": "stdout",
     "output_type": "stream",
     "text": [
      "[0.9473813830590466, 0.9332594316964121, 0.9508820312378503, 0.9473541649521545, 0.9579051075965775, 0.9473774931165715, 0.9543971986511737, 0.9473774931165715, 0.9543971986511737, 0.9438651785575435, 0.9473813830590466, 0.9368483258772362, 0.943872091576459, 0.9368483258772362, 0.9368483258772362]\n"
     ]
    },
    {
     "data": {
      "image/png": "[encoded data removed]",
      "text/plain": [
       "<Figure size 640x480 with 1 Axes>"
      ]
     },
     "metadata": {},
     "output_type": "display_data"
    }
   ],
   "source": [
    "#KNN for different k values\n",
    "kVals = [1,2,3,4,5,6,7,8,9,10,11,12,13,14,15]\n",
    "f1_scores = []\n",
    "\n",
    "for k in kVals:\n",
    "    knn = KNeighborsClassifier(n_neighbors=k)\n",
    "    knn.fit(X_train_svd,y_train)\n",
    "    pred = knn.predict(X_test_svd)\n",
    "    f1_scores.append(f1_score(y_test,pred,average='weighted'))\n",
    "    \n",
    "plt.plot(kVals,f1_scores)    \n",
    "print(f1_scores)"
   ]
  },
  {
   "cell_type": "code",
   "execution_count": 43,
   "id": "a1d74934",
   "metadata": {},
   "outputs": [
    {
     "name": "stdout",
     "output_type": "stream",
     "text": [
      "F1 Score:  0.9719298245614035\n",
      "Accuracy Score:  0.9719298245614035\n"
     ]
    }
   ],
   "source": [
    "#Ensemble Random Forest Classifier\n",
    "rf_classifier = RandomForestClassifier(n_estimators=150, random_state = 42)\n",
    "rf_classifier.fit(X_train_svd,y_train)\n",
    "pred = rf_classifier.predict(X_test_svd)\n",
    "print(\"F1 Score: \", metrics.f1_score(y_test,pred, average='weighted'))\n",
    "print(\"Accuracy Score: \", accuracy_score(y_test,pred))"
   ]
  },
  {
   "cell_type": "code",
   "execution_count": 45,
   "id": "3dbd8cbc",
   "metadata": {},
   "outputs": [
    {
     "name": "stdout",
     "output_type": "stream",
     "text": [
      "F1 Score:  0.971922210339421\n",
      "Accuracy Score:  0.9719298245614035\n"
     ]
    }
   ],
   "source": [
    "#ExtraTreeClassifier\n",
    "model = ExtraTreesClassifier(n_estimators=50, max_features=15,random_state=7)\n",
    "model.fit(X_train_svd, y_train)\n",
    "pred = model.predict(X_test_svd)\n",
    "print(\"F1 Score: \", metrics.f1_score(y_test,pred, average='weighted'))\n",
    "print(\"Accuracy Score: \", accuracy_score(y_test,pred))"
   ]
  },
  {
   "cell_type": "code",
   "execution_count": 46,
   "id": "6529844a",
   "metadata": {},
   "outputs": [
    {
     "name": "stdout",
     "output_type": "stream",
     "text": [
      "Optimal number of features : 20\n",
      "Best features : Index(['h_key1', 'dd_key1_key2', 'ud_key1_key2', 'h_key2', 'dd_key2_key3',\n",
      "       'ud_key2_key3', 'h_key3', 'dd_key3_key4', 'ud_key3_key4', 'h_key4',\n",
      "       'dd_key4_key5', 'ud_key4_key5', 'dd_key5_key6', 'ud_key5_key6',\n",
      "       'h_key6', 'dd_key6_key7', 'ud_key6_key7', 'h_key7', 'dd_key7_key8',\n",
      "       'ud_key7_key8'],\n",
      "      dtype='object')\n"
     ]
    }
   ],
   "source": [
    "clf_rf_4 = RandomForestClassifier() \n",
    "rfecv = RFECV(estimator=clf_rf_4, step=1, cv=10,scoring='accuracy')   #5-fold cross-validation\n",
    "rfecv = rfecv.fit(X, y)\n",
    "\n",
    "print('Optimal number of features :', rfecv.n_features_)\n",
    "print('Best features :', X.columns[rfecv.support_])"
   ]
  },
  {
   "cell_type": "code",
   "execution_count": 77,
   "id": "d60b4cac",
   "metadata": {},
   "outputs": [],
   "source": [
    "st  = \"0.119,0.272,0.153,0.103,0.208,0.105,0.103,0.288,0.185,0.151,0.288,0.137,0.095,0.487,0.392,0.216,0.161,-0.055,0.119,0.24,0.121,0.103\"\n",
    "li = list(st.split(','))"
   ]
  },
  {
   "cell_type": "code",
   "execution_count": 78,
   "id": "73a3f7e0",
   "metadata": {},
   "outputs": [],
   "source": [
    "ar = np.array(li)\n",
    "arr = ar.reshape(1,22)"
   ]
  },
  {
   "cell_type": "code",
   "execution_count": 79,
   "id": "d0fec66d",
   "metadata": {},
   "outputs": [
    {
     "data": {
      "text/plain": [
       "(1, 22)"
      ]
     },
     "execution_count": 79,
     "metadata": {},
     "output_type": "execute_result"
    }
   ],
   "source": [
    "\n",
    "arr.shape"
   ]
  },
  {
   "cell_type": "code",
   "execution_count": 80,
   "id": "b4e30d56",
   "metadata": {},
   "outputs": [],
   "source": [
    "knn = KNeighborsClassifier(n_neighbors=5)\n",
    "knn.fit(X_train,y_train)\n",
    "res = knn.predict(arr)"
   ]
  },
  {
   "cell_type": "code",
   "execution_count": 81,
   "id": "a2a59110",
   "metadata": {},
   "outputs": [
    {
     "name": "stdout",
     "output_type": "stream",
     "text": [
      "Shape of X_train: (1140, 22)\n",
      "Shape of arr: (1, 22)\n"
     ]
    }
   ],
   "source": [
    "print(\"Shape of X_train:\", X_train.shape)\n",
    "print(\"Shape of arr:\", arr.shape)"
   ]
  },
  {
   "cell_type": "code",
   "execution_count": 82,
   "id": "696909ea",
   "metadata": {},
   "outputs": [
    {
     "data": {
      "text/plain": [
       "'Genuine'"
      ]
     },
     "execution_count": 82,
     "metadata": {},
     "output_type": "execute_result"
    }
   ],
   "source": [
    "res[0]"
   ]
  },
  {
   "cell_type": "code",
   "execution_count": 88,
   "id": "95077ab0",
   "metadata": {},
   "outputs": [],
   "source": [
    "st1  =\"0.08,0.358,0.278,0.076,0.239,0.163,0.072,0.22,0.148,0.068,0.402,0.334,0.068,0.527,0.459,0.22,0.133,-0.087,0.104,0.47,0.366,0.072\"\n",
    "li = list(st1.split(','))"
   ]
  },
  {
   "cell_type": "code",
   "execution_count": 89,
   "id": "3e38606a",
   "metadata": {},
   "outputs": [],
   "source": [
    "ar = np.array(li)\n",
    "arr = ar.reshape(1,22)"
   ]
  },
  {
   "cell_type": "code",
   "execution_count": 90,
   "id": "dc783d4e",
   "metadata": {},
   "outputs": [],
   "source": [
    "knn = KNeighborsClassifier(n_neighbors=5)\n",
    "knn.fit(X_train,y_train)\n",
    "res = knn.predict(arr)"
   ]
  },
  {
   "cell_type": "code",
   "execution_count": 91,
   "id": "7243486f",
   "metadata": {},
   "outputs": [
    {
     "data": {
      "text/plain": [
       "'Imposter'"
      ]
     },
     "execution_count": 91,
     "metadata": {},
     "output_type": "execute_result"
    }
   ],
   "source": [
    "res[0]"
   ]
  },
  {
   "cell_type": "code",
   "execution_count": null,
   "id": "c3b8db35",
   "metadata": {},
   "outputs": [],
   "source": []
  }
 ],
 "metadata": {
  "kernelspec": {
   "display_name": "Python 3 (ipykernel)",
   "language": "python",
   "name": "python3"
  },
  "language_info": {
   "codemirror_mode": {
    "name": "ipython",
    "version": 3
   },
   "file_extension": ".py",
   "mimetype": "text/x-python",
   "name": "python",
   "nbconvert_exporter": "python",
   "pygments_lexer": "ipython3",
   "version": "3.9.13"
  }
 },
 "nbformat": 4,
 "nbformat_minor": 5
}
